{
 "cells": [
  {
   "cell_type": "markdown",
   "id": "42a3f941-1c28-494f-9034-54997c12acd4",
   "metadata": {},
   "source": [
    "# Linear Algebra \n",
    "\n",
    "### Structure of the Lessons\n",
    "* `Videos`- emphasizing the world of linear Algebra in a beautiful visual way._ Given by Grant\n",
    "* `Theory`- text elaborating on definitions and mathematical calculations, as well as theoretical quizzes. Given by Ortal.\n",
    "* `Labs`- implementation of the theoretical concepts in code. _Given by Jennifer.\n",
    "* `Neural Network intro` Final lesson putting all the pieces together as we directly connect Linear Algebra to the world of Neural Networks. Given by Ortal"
   ]
  },
  {
   "cell_type": "code",
   "execution_count": null,
   "id": "8155ab9d-118b-4d7b-89e3-0340c6d483a6",
   "metadata": {},
   "outputs": [],
   "source": []
  }
 ],
 "metadata": {
  "kernelspec": {
   "display_name": "Python 3 (ipykernel)",
   "language": "python",
   "name": "python3"
  },
  "language_info": {
   "codemirror_mode": {
    "name": "ipython",
    "version": 3
   },
   "file_extension": ".py",
   "mimetype": "text/x-python",
   "name": "python",
   "nbconvert_exporter": "python",
   "pygments_lexer": "ipython3",
   "version": "3.8.18"
  }
 },
 "nbformat": 4,
 "nbformat_minor": 5
}
